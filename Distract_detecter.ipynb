{
 "cells": [
  {
   "cell_type": "code",
   "execution_count": 1,
   "metadata": {},
   "outputs": [
    {
     "name": "stderr",
     "output_type": "stream",
     "text": [
      "Using TensorFlow backend.\n"
     ]
    }
   ],
   "source": [
    "import numpy as np\n",
    "import matplotlib.pyplot as plt\n",
    "import seaborn as sns\n",
    "import pandas as pd\n",
    "from keras.models import Sequential\n",
    "from keras.layers import Dense\n",
    "from keras.utils import np_utils\n",
    "from sklearn.preprocessing import LabelEncoder\n",
    "from keras import optimizers\n",
    "from sklearn.model_selection import train_test_split\n",
    "from sklearn import preprocessing\n",
    "from tensorflow.keras.callbacks import EarlyStopping\n",
    "from keras.layers import Dropout\n",
    "import tensorflow as tf\n",
    "import joblib\n",
    "from tensorflow.keras import optimizers\n",
    "\n",
    "physical_devices = tf.config.list_physical_devices('GPU') \n",
    "tf.config.experimental.set_memory_growth(physical_devices[0], True)"
   ]
  },
  {
   "cell_type": "code",
   "execution_count": 2,
   "metadata": {},
   "outputs": [
    {
     "name": "stdout",
     "output_type": "stream",
     "text": [
      "(608, 27)\n",
      "(608,)\n"
     ]
    }
   ],
   "source": [
    "sample=pd.read_csv(\"sample_coords.csv\")\n",
    "sample=sample[[\"focusing\",'nose_x','nose_y','neck_x','neck_y','rShoulder_x','rShoulder_y',\n",
    "'rElbow_x','rElbow_y','rWrist_x','rWrist_y','lShoulder_x','lShoulder_y','lElbow_x','lElbow_y',\n",
    "'lWrist_x','lWrist_y','rEye_x','rEye_y','lEye_x','lEye_y','rEar_x','rEar_y','lEar_x','lEar_y','lHand_x','lHand_y']]\n",
    "print(sample.shape)\n",
    "\n",
    "Y=sample[\"focusing\"]\n",
    "X=sample[['nose_x','nose_y','neck_x','neck_y','rShoulder_x','rShoulder_y',\n",
    "'rElbow_x','rElbow_y','rWrist_x','rWrist_y','lShoulder_x','lShoulder_y','lElbow_x','lElbow_y',\n",
    "'lWrist_x','lWrist_y','rEye_x','rEye_y','lEye_x','lEye_y','rEar_x','rEar_y','lEar_x','lEar_y','lHand_x','lHand_y']]\n",
    "sample=preprocessing.scale(X)\n",
    "print(Y.shape)"
   ]
  },
  {
   "cell_type": "code",
   "execution_count": 3,
   "metadata": {},
   "outputs": [
    {
     "name": "stdout",
     "output_type": "stream",
     "text": [
      "     0  1  2\n",
      "0    1  0  0\n",
      "1    1  0  0\n",
      "2    1  0  0\n",
      "3    1  0  0\n",
      "4    1  0  0\n",
      "..  .. .. ..\n",
      "603  0  0  1\n",
      "604  0  0  1\n",
      "605  0  0  1\n",
      "606  0  0  1\n",
      "607  0  0  1\n",
      "\n",
      "[608 rows x 3 columns]\n"
     ]
    }
   ],
   "source": [
    "dy=pd.DataFrame(Y)\n",
    "yon=pd.get_dummies(dy.focusing)\n",
    "print(yon)\n",
    "dx=pd.DataFrame(X)\n"
   ]
  },
  {
   "cell_type": "code",
   "execution_count": 4,
   "metadata": {},
   "outputs": [
    {
     "name": "stdout",
     "output_type": "stream",
     "text": [
      "        nose_x     nose_y     neck_x     neck_y  rShoulder_x  rShoulder_y  \\\n",
      "320  1409.6133  1621.3572  1170.5143  1762.3704    606.41050    1818.8921   \n",
      "82   1353.2928  1748.5984  1480.6259  1917.4153    973.32574    1903.1691   \n",
      "272  1325.5178  1409.5591  1494.5048  1832.6090   1015.28400    1846.9706   \n",
      "23   1634.8258  1847.1273  1536.8201  2016.0066   1029.24260    2044.1661   \n",
      "557  1537.2922  1734.1205  1621.2580  1537.0846   1156.33640    1438.5094   \n",
      "..         ...        ...        ...        ...          ...          ...   \n",
      "579     0.0000     0.0000  1170.3014  2030.1075    747.78296    2058.3718   \n",
      "502     0.0000     0.0000  1480.4600  1297.4058    860.16050    1339.3580   \n",
      "537     0.0000     0.0000  1536.5876  1804.6982    930.67020    1706.0259   \n",
      "196  1861.6865  1395.4132  1607.1399  1508.8930   1057.56160    1508.4382   \n",
      "175  1395.8949  1509.2429  1184.2370  1607.2845    635.19670    1606.8861   \n",
      "\n",
      "       rElbow_x   rElbow_y    rWrist_x   rWrist_y  ...     rEye_x     rEye_y  \\\n",
      "320   35.350254  2538.0547   874.44130  2593.5847  ...  1283.4073  1424.2794   \n",
      "82   620.457400  2326.2415   493.25256  2552.0700  ...  1212.8930  1621.7095   \n",
      "272  606.387400  2467.2751   817.88820  2227.3345  ...  1226.5951  1297.0184   \n",
      "23   832.130100  2805.3840   944.36835  2678.4480  ...  1493.9695  1719.9818   \n",
      "557  578.213500  1974.3901  1057.28990  2142.6511  ...  1423.9529  1564.9467   \n",
      "..          ...        ...         ...        ...  ...        ...        ...   \n",
      "579  987.090200  2537.8010  1395.40840  1733.9971  ...     0.0000     0.0000   \n",
      "502  761.498960  2199.2236  1861.14940  2551.3628  ...     0.0000     0.0000   \n",
      "537  719.235530  2382.3794  1438.13300  1523.0952  ...     0.0000     0.0000   \n",
      "196  550.175840  2198.9788  1508.70860  2100.5540  ...  1734.5149  1212.9749   \n",
      "175  212.007320  2410.6372  1057.04050  2424.7559  ...  1268.8104  1381.6067   \n",
      "\n",
      "        lEye_x     lEye_y      rEar_x     rEar_y     lEar_x     lEar_y  \\\n",
      "320  1551.2341  1480.3090  1015.25244  1282.7053     0.0000     0.0000   \n",
      "82   1466.4602  1621.6630  1155.93590  1592.9459  1691.5643  1536.6418   \n",
      "272  1424.5402  1282.9910  1127.91980  1296.8663  1635.2314  1282.5109   \n",
      "23   1762.3018  1691.9481  1282.96030  1564.9045  1931.6078  1508.5267   \n",
      "557  1733.8206  1621.2567  1283.57480  1297.2201  1945.4263  1494.3733   \n",
      "..         ...        ...         ...        ...        ...        ...   \n",
      "579     0.0000     0.0000     0.00000     0.0000     0.0000     0.0000   \n",
      "502     0.0000     0.0000  1296.99800  1396.2124     0.0000     0.0000   \n",
      "537     0.0000     0.0000     0.00000     0.0000     0.0000     0.0000   \n",
      "196  2015.7881  1226.4994  1423.99450  1072.0527     0.0000     0.0000   \n",
      "175  1536.9012  1367.7599  1015.09310  1169.6354  1649.5314  1170.2734   \n",
      "\n",
      "       lHand_x    lHand_y  \n",
      "320  1937.4116  2523.7295  \n",
      "82   2353.8088  2704.9420  \n",
      "272  1807.9413  2193.5590  \n",
      "23   2342.9395  2869.5571  \n",
      "557   968.6938  1769.0303  \n",
      "..         ...        ...  \n",
      "579     0.0000     0.0000  \n",
      "502  1988.5012  2765.0990  \n",
      "537  1736.1022  2511.0286  \n",
      "196  2792.1416  2358.7769  \n",
      "175  2310.2610  2434.3953  \n",
      "\n",
      "[486 rows x 26 columns]\n"
     ]
    }
   ],
   "source": [
    "seed = 7\n",
    "np.random.seed(seed)\n",
    "X_train, X_test, y_train, y_test = train_test_split(dx, yon, test_size=0.2, random_state=seed)\n",
    "print(X_train)"
   ]
  },
  {
   "cell_type": "code",
   "execution_count": 5,
   "metadata": {},
   "outputs": [],
   "source": [
    "early_stopping_monitor = EarlyStopping(\n",
    "    monitor='val_loss',\n",
    "    min_delta=0,\n",
    "    patience=0,\n",
    "    verbose=0,\n",
    "    mode='auto',\n",
    "    baseline=None,\n",
    "    restore_best_weights=True\n",
    ")"
   ]
  },
  {
   "cell_type": "code",
   "execution_count": 6,
   "metadata": {},
   "outputs": [
    {
     "name": "stdout",
     "output_type": "stream",
     "text": [
      "Model: \"sequential_1\"\n",
      "_________________________________________________________________\n",
      "Layer (type)                 Output Shape              Param #   \n",
      "=================================================================\n",
      "dense_1 (Dense)              (None, 64)                1728      \n",
      "_________________________________________________________________\n",
      "dropout_1 (Dropout)          (None, 64)                0         \n",
      "_________________________________________________________________\n",
      "dense_2 (Dense)              (None, 32)                2080      \n",
      "_________________________________________________________________\n",
      "dense_3 (Dense)              (None, 3)                 99        \n",
      "=================================================================\n",
      "Total params: 3,907\n",
      "Trainable params: 3,907\n",
      "Non-trainable params: 0\n",
      "_________________________________________________________________\n"
     ]
    }
   ],
   "source": [
    "def distract_model():\n",
    "    model=Sequential()\n",
    "    model.add(Dense(64,input_dim=26,activation='relu'))\n",
    "    model.add(Dropout(0.2))\n",
    "    model.add(Dense(32,activation='relu'))\n",
    "    model.add(Dense(3,activation='softmax'))\n",
    "    model.compile(loss='categorical_crossentropy', optimizer='Adam', metrics=['accuracy'])\n",
    "    return model\n",
    "model=distract_model()\n",
    "model.summary()"
   ]
  },
  {
   "cell_type": "code",
   "execution_count": 7,
   "metadata": {},
   "outputs": [
    {
     "name": "stdout",
     "output_type": "stream",
     "text": [
      "Train on 486 samples, validate on 122 samples\n",
      "Epoch 1/100\n",
      "486/486 [==============================] - 0s 1ms/step - loss: 358.3437 - accuracy: 0.4218 - val_loss: 120.7659 - val_accuracy: 0.6393\n",
      "Epoch 2/100\n",
      "486/486 [==============================] - 0s 137us/step - loss: 176.6439 - accuracy: 0.4835 - val_loss: 111.7030 - val_accuracy: 0.3770\n",
      "Epoch 3/100\n",
      "486/486 [==============================] - 0s 152us/step - loss: 142.2720 - accuracy: 0.4979 - val_loss: 49.6481 - val_accuracy: 0.5902\n",
      "Epoch 4/100\n",
      "486/486 [==============================] - 0s 179us/step - loss: 108.3359 - accuracy: 0.5226 - val_loss: 35.5834 - val_accuracy: 0.6311\n",
      "Epoch 5/100\n",
      "486/486 [==============================] - 0s 189us/step - loss: 95.0013 - accuracy: 0.5432 - val_loss: 30.2651 - val_accuracy: 0.5328\n",
      "Epoch 6/100\n",
      "486/486 [==============================] - 0s 148us/step - loss: 73.2373 - accuracy: 0.5350 - val_loss: 26.4120 - val_accuracy: 0.5164\n",
      "Epoch 7/100\n",
      "486/486 [==============================] - 0s 125us/step - loss: 52.1655 - accuracy: 0.5947 - val_loss: 35.7302 - val_accuracy: 0.4918\n",
      "Epoch 8/100\n",
      "486/486 [==============================] - 0s 123us/step - loss: 51.8733 - accuracy: 0.5947 - val_loss: 7.5770 - val_accuracy: 0.8115\n",
      "Epoch 9/100\n",
      "486/486 [==============================] - 0s 125us/step - loss: 45.2702 - accuracy: 0.5700 - val_loss: 6.1527 - val_accuracy: 0.8689\n",
      "Epoch 10/100\n",
      "486/486 [==============================] - 0s 125us/step - loss: 30.4590 - accuracy: 0.6667 - val_loss: 6.0563 - val_accuracy: 0.7131\n",
      "Epoch 11/100\n",
      "486/486 [==============================] - 0s 148us/step - loss: 29.9480 - accuracy: 0.6523 - val_loss: 6.6585 - val_accuracy: 0.6721\n",
      "Epoch 12/100\n",
      "486/486 [==============================] - 0s 154us/step - loss: 26.7601 - accuracy: 0.6687 - val_loss: 3.7528 - val_accuracy: 0.8607\n",
      "Epoch 13/100\n",
      "486/486 [==============================] - 0s 158us/step - loss: 21.7129 - accuracy: 0.6975 - val_loss: 3.0684 - val_accuracy: 0.8525\n",
      "Epoch 14/100\n",
      "486/486 [==============================] - 0s 158us/step - loss: 18.5077 - accuracy: 0.6955 - val_loss: 1.7383 - val_accuracy: 0.9180\n",
      "Epoch 15/100\n",
      "486/486 [==============================] - 0s 152us/step - loss: 15.4857 - accuracy: 0.7572 - val_loss: 3.0922 - val_accuracy: 0.7951\n",
      "Epoch 16/100\n",
      "486/486 [==============================] - 0s 162us/step - loss: 15.8753 - accuracy: 0.6934 - val_loss: 2.2856 - val_accuracy: 0.7295\n",
      "Epoch 17/100\n",
      "486/486 [==============================] - 0s 158us/step - loss: 14.4557 - accuracy: 0.7407 - val_loss: 1.4898 - val_accuracy: 0.8852\n",
      "Epoch 18/100\n",
      "486/486 [==============================] - 0s 150us/step - loss: 10.3564 - accuracy: 0.7469 - val_loss: 1.0671 - val_accuracy: 0.9180\n",
      "Epoch 19/100\n",
      "486/486 [==============================] - 0s 154us/step - loss: 9.9588 - accuracy: 0.7531 - val_loss: 1.5376 - val_accuracy: 0.8361\n",
      "Epoch 20/100\n",
      "486/486 [==============================] - 0s 152us/step - loss: 7.5146 - accuracy: 0.8004 - val_loss: 0.5744 - val_accuracy: 0.9426\n",
      "Epoch 21/100\n",
      "486/486 [==============================] - 0s 146us/step - loss: 6.6770 - accuracy: 0.8066 - val_loss: 2.0468 - val_accuracy: 0.7951\n",
      "Epoch 22/100\n",
      "486/486 [==============================] - 0s 139us/step - loss: 6.1506 - accuracy: 0.7942 - val_loss: 0.7533 - val_accuracy: 0.9508\n",
      "Epoch 23/100\n",
      "486/486 [==============================] - 0s 140us/step - loss: 6.6733 - accuracy: 0.7860 - val_loss: 0.9570 - val_accuracy: 0.8689\n",
      "Epoch 24/100\n",
      "486/486 [==============================] - 0s 121us/step - loss: 5.5854 - accuracy: 0.8210 - val_loss: 1.5626 - val_accuracy: 0.8443\n",
      "Epoch 25/100\n",
      "486/486 [==============================] - 0s 125us/step - loss: 4.1183 - accuracy: 0.8374 - val_loss: 1.7603 - val_accuracy: 0.8279\n",
      "Epoch 26/100\n",
      "486/486 [==============================] - 0s 129us/step - loss: 6.7745 - accuracy: 0.7860 - val_loss: 1.1722 - val_accuracy: 0.8770\n",
      "Epoch 27/100\n",
      "486/486 [==============================] - 0s 137us/step - loss: 4.5789 - accuracy: 0.7716 - val_loss: 1.6756 - val_accuracy: 0.8607\n",
      "Epoch 28/100\n",
      "486/486 [==============================] - 0s 135us/step - loss: 5.3241 - accuracy: 0.8210 - val_loss: 1.6003 - val_accuracy: 0.8607\n",
      "Epoch 29/100\n",
      "486/486 [==============================] - 0s 168us/step - loss: 4.5713 - accuracy: 0.8292 - val_loss: 0.6954 - val_accuracy: 0.9180\n",
      "Epoch 30/100\n",
      "486/486 [==============================] - 0s 133us/step - loss: 2.6853 - accuracy: 0.8765 - val_loss: 0.8036 - val_accuracy: 0.8689\n",
      "Epoch 31/100\n",
      "486/486 [==============================] - 0s 132us/step - loss: 3.4119 - accuracy: 0.8189 - val_loss: 1.7749 - val_accuracy: 0.7787\n",
      "Epoch 32/100\n",
      "486/486 [==============================] - 0s 133us/step - loss: 3.8161 - accuracy: 0.8210 - val_loss: 0.6155 - val_accuracy: 0.9426\n",
      "Epoch 33/100\n",
      "486/486 [==============================] - 0s 125us/step - loss: 4.3969 - accuracy: 0.8086 - val_loss: 0.9528 - val_accuracy: 0.9508\n",
      "Epoch 34/100\n",
      "486/486 [==============================] - 0s 129us/step - loss: 3.0672 - accuracy: 0.8354 - val_loss: 0.5690 - val_accuracy: 0.9344\n",
      "Epoch 35/100\n",
      "486/486 [==============================] - 0s 127us/step - loss: 2.2242 - accuracy: 0.8745 - val_loss: 0.5982 - val_accuracy: 0.9180\n",
      "Epoch 36/100\n",
      "486/486 [==============================] - 0s 131us/step - loss: 2.6090 - accuracy: 0.8683 - val_loss: 0.3386 - val_accuracy: 0.9508\n",
      "Epoch 37/100\n",
      "486/486 [==============================] - 0s 127us/step - loss: 2.5428 - accuracy: 0.8765 - val_loss: 0.5107 - val_accuracy: 0.9344\n",
      "Epoch 38/100\n",
      "486/486 [==============================] - 0s 137us/step - loss: 2.6103 - accuracy: 0.8292 - val_loss: 1.0825 - val_accuracy: 0.8115\n",
      "Epoch 39/100\n",
      "486/486 [==============================] - 0s 135us/step - loss: 3.0347 - accuracy: 0.8416 - val_loss: 0.8192 - val_accuracy: 0.9426\n",
      "Epoch 40/100\n",
      "486/486 [==============================] - 0s 133us/step - loss: 3.1583 - accuracy: 0.8539 - val_loss: 1.0728 - val_accuracy: 0.9344\n",
      "Epoch 41/100\n",
      "486/486 [==============================] - 0s 131us/step - loss: 3.2056 - accuracy: 0.8519 - val_loss: 0.7288 - val_accuracy: 0.9344\n",
      "Epoch 42/100\n",
      "486/486 [==============================] - 0s 131us/step - loss: 2.4366 - accuracy: 0.8642 - val_loss: 0.9626 - val_accuracy: 0.9426\n",
      "Epoch 43/100\n",
      "486/486 [==============================] - 0s 129us/step - loss: 2.1537 - accuracy: 0.8827 - val_loss: 1.0137 - val_accuracy: 0.9426\n",
      "Epoch 44/100\n",
      "486/486 [==============================] - 0s 129us/step - loss: 1.4859 - accuracy: 0.8745 - val_loss: 0.9893 - val_accuracy: 0.9344\n",
      "Epoch 45/100\n",
      "486/486 [==============================] - 0s 129us/step - loss: 1.9267 - accuracy: 0.8827 - val_loss: 0.8746 - val_accuracy: 0.9344\n",
      "Epoch 46/100\n",
      "486/486 [==============================] - 0s 133us/step - loss: 1.8459 - accuracy: 0.8704 - val_loss: 0.8773 - val_accuracy: 0.9426\n",
      "Epoch 47/100\n",
      "486/486 [==============================] - 0s 125us/step - loss: 2.3334 - accuracy: 0.8539 - val_loss: 1.2716 - val_accuracy: 0.7705\n",
      "Epoch 48/100\n",
      "486/486 [==============================] - 0s 142us/step - loss: 1.8803 - accuracy: 0.8704 - val_loss: 0.7591 - val_accuracy: 0.7869\n",
      "Epoch 49/100\n",
      "486/486 [==============================] - 0s 144us/step - loss: 1.8306 - accuracy: 0.8642 - val_loss: 1.3119 - val_accuracy: 0.8033\n",
      "Epoch 50/100\n",
      "486/486 [==============================] - 0s 145us/step - loss: 1.7685 - accuracy: 0.8560 - val_loss: 1.8920 - val_accuracy: 0.6557\n",
      "Epoch 51/100\n",
      "486/486 [==============================] - 0s 142us/step - loss: 1.9248 - accuracy: 0.8354 - val_loss: 0.3418 - val_accuracy: 0.9508\n",
      "Epoch 52/100\n",
      "486/486 [==============================] - 0s 155us/step - loss: 2.1176 - accuracy: 0.8642 - val_loss: 0.4634 - val_accuracy: 0.9016\n",
      "Epoch 53/100\n",
      "486/486 [==============================] - 0s 148us/step - loss: 1.6648 - accuracy: 0.8745 - val_loss: 0.9485 - val_accuracy: 0.7869\n",
      "Epoch 54/100\n",
      "486/486 [==============================] - 0s 137us/step - loss: 2.0000 - accuracy: 0.8580 - val_loss: 1.0804 - val_accuracy: 0.6721\n",
      "Epoch 55/100\n",
      "486/486 [==============================] - 0s 131us/step - loss: 1.6415 - accuracy: 0.8416 - val_loss: 0.1764 - val_accuracy: 0.9508\n",
      "Epoch 56/100\n"
     ]
    },
    {
     "name": "stdout",
     "output_type": "stream",
     "text": [
      "486/486 [==============================] - 0s 123us/step - loss: 1.3258 - accuracy: 0.8621 - val_loss: 0.1476 - val_accuracy: 0.9590\n",
      "Epoch 57/100\n",
      "486/486 [==============================] - 0s 121us/step - loss: 1.4926 - accuracy: 0.8971 - val_loss: 0.1704 - val_accuracy: 0.9426\n",
      "Epoch 58/100\n",
      "486/486 [==============================] - 0s 125us/step - loss: 0.9250 - accuracy: 0.8971 - val_loss: 0.1857 - val_accuracy: 0.9508\n",
      "Epoch 59/100\n",
      "486/486 [==============================] - 0s 156us/step - loss: 1.0967 - accuracy: 0.8786 - val_loss: 0.1764 - val_accuracy: 0.9508\n",
      "Epoch 60/100\n",
      "486/486 [==============================] - 0s 160us/step - loss: 1.1352 - accuracy: 0.8848 - val_loss: 0.5654 - val_accuracy: 0.8689\n",
      "Epoch 61/100\n",
      "486/486 [==============================] - 0s 152us/step - loss: 1.0115 - accuracy: 0.8786 - val_loss: 0.3812 - val_accuracy: 0.9262\n",
      "Epoch 62/100\n",
      "486/486 [==============================] - 0s 155us/step - loss: 0.9782 - accuracy: 0.8868 - val_loss: 0.5279 - val_accuracy: 0.8607\n",
      "Epoch 63/100\n",
      "486/486 [==============================] - 0s 158us/step - loss: 1.1189 - accuracy: 0.8786 - val_loss: 0.6567 - val_accuracy: 0.8770\n",
      "Epoch 64/100\n",
      "486/486 [==============================] - 0s 150us/step - loss: 1.0137 - accuracy: 0.8848 - val_loss: 0.2104 - val_accuracy: 0.9344\n",
      "Epoch 65/100\n",
      "486/486 [==============================] - 0s 154us/step - loss: 0.7556 - accuracy: 0.9033 - val_loss: 0.3679 - val_accuracy: 0.9508\n",
      "Epoch 66/100\n",
      "486/486 [==============================] - 0s 152us/step - loss: 1.7117 - accuracy: 0.9136 - val_loss: 1.0334 - val_accuracy: 0.8443\n",
      "Epoch 67/100\n",
      "486/486 [==============================] - 0s 157us/step - loss: 1.2134 - accuracy: 0.8765 - val_loss: 0.8600 - val_accuracy: 0.9508\n",
      "Epoch 68/100\n",
      "486/486 [==============================] - 0s 154us/step - loss: 1.3182 - accuracy: 0.8807 - val_loss: 0.9712 - val_accuracy: 0.8770\n",
      "Epoch 69/100\n",
      "486/486 [==============================] - 0s 140us/step - loss: 0.7218 - accuracy: 0.8951 - val_loss: 1.0132 - val_accuracy: 0.8689\n",
      "Epoch 70/100\n",
      "486/486 [==============================] - 0s 137us/step - loss: 1.0636 - accuracy: 0.8951 - val_loss: 0.8891 - val_accuracy: 0.9016\n",
      "Epoch 71/100\n",
      "486/486 [==============================] - 0s 137us/step - loss: 0.7639 - accuracy: 0.8765 - val_loss: 0.8169 - val_accuracy: 0.9508\n",
      "Epoch 72/100\n",
      "486/486 [==============================] - 0s 150us/step - loss: 0.5202 - accuracy: 0.8992 - val_loss: 0.8483 - val_accuracy: 0.9344\n",
      "Epoch 73/100\n",
      "486/486 [==============================] - 0s 152us/step - loss: 0.6885 - accuracy: 0.8724 - val_loss: 0.9287 - val_accuracy: 0.9508\n",
      "Epoch 74/100\n",
      "486/486 [==============================] - 0s 138us/step - loss: 0.6284 - accuracy: 0.9280 - val_loss: 0.8703 - val_accuracy: 0.9508\n",
      "Epoch 75/100\n",
      "486/486 [==============================] - 0s 135us/step - loss: 1.1085 - accuracy: 0.8951 - val_loss: 0.8274 - val_accuracy: 0.9508\n",
      "Epoch 76/100\n",
      "486/486 [==============================] - 0s 140us/step - loss: 0.5862 - accuracy: 0.8992 - val_loss: 0.9552 - val_accuracy: 0.9508\n",
      "Epoch 77/100\n",
      "486/486 [==============================] - 0s 137us/step - loss: 0.6573 - accuracy: 0.8807 - val_loss: 1.2240 - val_accuracy: 0.8197\n",
      "Epoch 78/100\n",
      "486/486 [==============================] - 0s 148us/step - loss: 1.0673 - accuracy: 0.8621 - val_loss: 1.3358 - val_accuracy: 0.9590\n",
      "Epoch 79/100\n",
      "486/486 [==============================] - 0s 140us/step - loss: 0.5094 - accuracy: 0.8909 - val_loss: 2.2960 - val_accuracy: 0.8607\n",
      "Epoch 80/100\n",
      "486/486 [==============================] - 0s 135us/step - loss: 0.6731 - accuracy: 0.9198 - val_loss: 2.3245 - val_accuracy: 0.9508\n",
      "Epoch 81/100\n",
      "486/486 [==============================] - 0s 154us/step - loss: 0.7536 - accuracy: 0.9053 - val_loss: 0.1616 - val_accuracy: 0.9590\n",
      "Epoch 82/100\n",
      "486/486 [==============================] - 0s 146us/step - loss: 0.7715 - accuracy: 0.9012 - val_loss: 0.1226 - val_accuracy: 0.9672\n",
      "Epoch 83/100\n",
      "486/486 [==============================] - 0s 162us/step - loss: 0.5877 - accuracy: 0.8951 - val_loss: 0.1316 - val_accuracy: 0.9508\n",
      "Epoch 84/100\n",
      "486/486 [==============================] - 0s 140us/step - loss: 0.5362 - accuracy: 0.9074 - val_loss: 0.1407 - val_accuracy: 0.9098\n",
      "Epoch 85/100\n",
      "486/486 [==============================] - 0s 133us/step - loss: 0.5999 - accuracy: 0.9012 - val_loss: 0.1421 - val_accuracy: 0.9262\n",
      "Epoch 86/100\n",
      "486/486 [==============================] - 0s 139us/step - loss: 0.5993 - accuracy: 0.9033 - val_loss: 0.1303 - val_accuracy: 0.9672\n",
      "Epoch 87/100\n",
      "486/486 [==============================] - 0s 137us/step - loss: 0.7639 - accuracy: 0.8765 - val_loss: 0.2184 - val_accuracy: 0.9016\n",
      "Epoch 88/100\n",
      "486/486 [==============================] - 0s 139us/step - loss: 0.5438 - accuracy: 0.8848 - val_loss: 0.1419 - val_accuracy: 0.9262\n",
      "Epoch 89/100\n",
      "486/486 [==============================] - 0s 150us/step - loss: 0.5699 - accuracy: 0.9136 - val_loss: 0.3370 - val_accuracy: 0.9180\n",
      "Epoch 90/100\n",
      "486/486 [==============================] - 0s 164us/step - loss: 0.6128 - accuracy: 0.9074 - val_loss: 0.1084 - val_accuracy: 0.9836\n",
      "Epoch 91/100\n",
      "486/486 [==============================] - 0s 170us/step - loss: 0.5584 - accuracy: 0.9198 - val_loss: 0.1737 - val_accuracy: 0.9180\n",
      "Epoch 92/100\n",
      "486/486 [==============================] - 0s 154us/step - loss: 0.5574 - accuracy: 0.8848 - val_loss: 0.1250 - val_accuracy: 0.9754\n",
      "Epoch 93/100\n",
      "486/486 [==============================] - 0s 133us/step - loss: 0.3887 - accuracy: 0.9342 - val_loss: 0.1008 - val_accuracy: 0.9590\n",
      "Epoch 94/100\n",
      "486/486 [==============================] - 0s 121us/step - loss: 1.0659 - accuracy: 0.8868 - val_loss: 0.2154 - val_accuracy: 0.9508\n",
      "Epoch 95/100\n",
      "486/486 [==============================] - 0s 127us/step - loss: 0.6995 - accuracy: 0.8992 - val_loss: 1.2201 - val_accuracy: 0.8934\n",
      "Epoch 96/100\n",
      "486/486 [==============================] - 0s 123us/step - loss: 0.6089 - accuracy: 0.9033 - val_loss: 0.9570 - val_accuracy: 0.9426\n",
      "Epoch 97/100\n",
      "486/486 [==============================] - 0s 119us/step - loss: 0.5854 - accuracy: 0.8951 - val_loss: 0.7331 - val_accuracy: 0.9344\n",
      "Epoch 98/100\n",
      "486/486 [==============================] - 0s 123us/step - loss: 0.7978 - accuracy: 0.9033 - val_loss: 0.6930 - val_accuracy: 0.9262\n",
      "Epoch 99/100\n",
      "486/486 [==============================] - 0s 131us/step - loss: 0.6658 - accuracy: 0.8889 - val_loss: 0.7696 - val_accuracy: 0.9508\n",
      "Epoch 100/100\n",
      "486/486 [==============================] - 0s 133us/step - loss: 0.4180 - accuracy: 0.9095 - val_loss: 0.8525 - val_accuracy: 0.8443\n"
     ]
    }
   ],
   "source": [
    "history = model.fit(X_train,y_train, validation_data=(X_test,y_test),epochs=100,batch_size=30)\n",
    "\n",
    "# summarize history for accuracy"
   ]
  },
  {
   "cell_type": "code",
   "execution_count": 8,
   "metadata": {},
   "outputs": [
    {
     "data": {
      "image/png": "[encoded data removed]",
      "text/plain": [
       "<Figure size 432x288 with 1 Axes>"
      ]
     },
     "metadata": {
      "needs_background": "light"
     },
     "output_type": "display_data"
    }
   ],
   "source": [
    "plt.plot(history.history['accuracy'])\n",
    "plt.title('model accuracy')\n",
    "plt.ylabel('accuracy')\n",
    "plt.xlabel('epoch')\n",
    "plt.legend(['all'], loc='upper left')\n",
    "plt.show()"
   ]
  },
  {
   "cell_type": "code",
   "execution_count": 9,
   "metadata": {},
   "outputs": [
    {
     "name": "stdout",
     "output_type": "stream",
     "text": [
      "122/122 [==============================] - 0s 98us/step\n",
      "0.8442623019218445\n"
     ]
    },
    {
     "data": {
      "text/plain": [
       "['detecter3.pkl']"
      ]
     },
     "execution_count": 9,
     "metadata": {},
     "output_type": "execute_result"
    }
   ],
   "source": [
    "score=model.evaluate(X_test,y_test)\n",
    "print(score[1])\n",
    "joblib.dump(model,'detecter3.pkl')"
   ]
  },
  {
   "cell_type": "code",
   "execution_count": 10,
   "metadata": {},
   "outputs": [
    {
     "data": {
      "text/plain": [
       "(486, 26)"
      ]
     },
     "execution_count": 10,
     "metadata": {},
     "output_type": "execute_result"
    }
   ],
   "source": [
    "type(X_train)\n",
    "X_train.shape\n"
   ]
  },
  {
   "cell_type": "code",
   "execution_count": 11,
   "metadata": {},
   "outputs": [],
   "source": [
    "ll=joblib.load(\"detecter3.pkl\")"
   ]
  },
  {
   "cell_type": "code",
   "execution_count": 12,
   "metadata": {},
   "outputs": [
    {
     "name": "stdout",
     "output_type": "stream",
     "text": [
      "[[1.1351771e-03 9.9886489e-01 4.7979265e-32]\n",
      " [1.0000000e+00 1.3400318e-09 1.2796702e-20]\n",
      " [7.6441616e-02 9.2355841e-01 1.2427448e-09]\n",
      " ...\n",
      " [0.0000000e+00 0.0000000e+00 1.0000000e+00]\n",
      " [1.0000000e+00 4.8044685e-10 0.0000000e+00]\n",
      " [1.0000000e+00 1.8928725e-08 9.4480377e-31]]\n",
      "[1 0 1 0 2 2 1 2 0 2 0 1 0 1 1 0 0 2 1 1 0 1 0 0 1 0 2 1 1 0 2 1 1 0 1 1 1\n",
      " 1 0 1 0 1 0 1 2 0 0 1 0 0 2 1 1 0 2 2 0 1 1 0 1 0 1 0 0 1 2 1 0 0 2 1 0 0\n",
      " 0 0 1 1 0 1 1 0 0 1 1 0 0 1 1 0 0 1 1 2 0 2 0 2 2 0 2 0 1 1 0 1 2 0 0 0 2\n",
      " 0 0 2 0 1 1 1 1 1 0 2 0 0 0 0 0 0 0 0 0 2 1 0 2 0 0 1 0 1 0 1 1 2 2 0 0 2\n",
      " 0 0 0 1 0 1 0 2 1 0 0 2 0 0 1 2 2 0 0 1 1 1 1 0 0 2 1 0 1 0 0 2 0 1 1 2 1\n",
      " 0 0 2 0 0 2 2 1 0 2 0 1 1 0 1 0 2 0 0 0 1 0 0 0 1 1 0 0 0 1 2 0 1 1 1 0 0\n",
      " 2 1 1 0 1 0 0 0 0 0 2 1 1 0 1 0 1 0 1 0 1 1 2 1 1 2 1 0 0 1 2 2 0 2 1 2 0\n",
      " 0 2 0 0 2 2 2 0 0 0 0 1 0 1 0 0 2 0 1 1 0 2 0 1 0 0 0 0 0 2 1 1 1 2 2 0 0\n",
      " 0 1 1 0 1 1 1 0 0 1 0 1 0 1 1 1 1 2 0 1 1 0 2 1 0 1 2 2 0 1 0 0 2 0 1 0 2\n",
      " 1 2 1 0 0 1 0 1 0 1 0 0 0 1 1 0 1 0 2 0 1 2 2 1 0 0 1 0 1 1 1 0 0 1 2 0 0\n",
      " 1 1 2 0 1 2 0 1 1 0 1 0 0 0 1 2 2 0 0 0 1 0 0 0 1 0 0 0 0 0 2 2 1 1 1 0 0\n",
      " 1 0 1 1 0 0 1 0 0 0 2 2 0 0 0 1 0 0 1 1 0 0 2 0 2 0 1 1 0 0 0 2 1 0 2 1 1\n",
      " 1 1 0 0 0 1 0 1 2 0 0 1 1 0 0 0 0 0 0 1 0 1 0 2 1 1 0 0 2 1 1 2 2 1 0 1 0\n",
      " 2 2 2 0 0]\n"
     ]
    }
   ],
   "source": [
    "print(ll.predict(X_train))\n",
    "max_a = np.argmax(ll.predict(X_train), axis=1)\n",
    "print(max_a)"
   ]
  },
  {
   "cell_type": "code",
   "execution_count": 13,
   "metadata": {},
   "outputs": [
    {
     "name": "stdout",
     "output_type": "stream",
     "text": [
      "(21, 26)\n",
      "       nose_x     nose_y     neck_x     neck_y  rShoulder_x  rShoulder_y  \\\n",
      "0   314.62590  262.94263  318.86023  389.95255    181.20462    402.77814   \n",
      "1   353.41934  179.03337  316.77927  290.96880    179.05066    299.56450   \n",
      "2   336.14035   92.89957  318.88623  219.96025    161.89920    228.51115   \n",
      "3   327.53696  108.06870  321.14438  202.78676    192.01016    211.28368   \n",
      "4   325.40808   88.69081  325.41522  213.47406    194.11711    215.74954   \n",
      "5   321.06076  164.02551  318.84628  215.64767    181.22145    228.50278   \n",
      "6   333.90990  170.45502  323.24680  213.45380    183.42201    215.65201   \n",
      "7   336.20358  189.82861  325.37140  211.34216    185.53722    211.31184   \n",
      "8   338.30630  183.38904  325.38570  211.29999    185.54785    211.31776   \n",
      "9   306.07422  114.53634  323.24133  196.31306    179.05510    196.21533   \n",
      "10  329.63202  127.42144  361.95100  198.42096    217.86809    200.65703   \n",
      "11  333.92426  129.59622  364.06412  198.41320    219.94348    202.72720   \n",
      "12  329.65088  129.52438  355.51562  198.40768    219.92741    202.72647   \n",
      "13  334.03278  129.63835  359.82755  198.40527    217.86970    202.75370   \n",
      "14  336.15134  131.82126  364.12480  196.35349    213.51974    200.58772   \n",
      "15    0.00000    0.00000  355.53613  219.98457    215.64357    217.80862   \n",
      "16    0.00000    0.00000  366.22223  226.38620    219.96597    224.22896   \n",
      "17  351.27463  314.65063  372.72880  230.68774    224.25137    217.85092   \n",
      "18  357.65900  316.81830  377.00330  241.46284    228.57834    215.71358   \n",
      "19  366.28460  288.84128  385.55957  239.32912    228.55989    217.83107   \n",
      "20  351.17188  230.79169  364.09730  215.67647    207.05771    222.10172   \n",
      "\n",
      "      rElbow_x   rElbow_y    rWrist_x   rWrist_y  ...     rEye_x      rEye_y  \\\n",
      "0     0.000000    0.00000    0.000000    0.00000  ...  282.23166  230.584700   \n",
      "1     5.863744  353.34546    0.000000    0.00000  ...  316.82430  127.450930   \n",
      "2    15.541681  368.41974    0.000000    0.00000  ...  295.27960   43.499546   \n",
      "3   125.275185  323.20557   69.357530  405.06900  ...  290.93826   73.653404   \n",
      "4   131.776960  349.01852   73.666340  411.46085  ...  293.12024   52.148140   \n",
      "5    97.328926  387.77515  144.656900  424.37460  ...  282.32794  127.330040   \n",
      "6    75.775430  377.01215  155.427200  432.91956  ...  293.13470  129.640670   \n",
      "7    75.738760  372.73047  159.683000  426.50714  ...  301.65683  148.918750   \n",
      "8    75.774260  372.72000  155.408000  424.41310  ...  301.82080  146.755830   \n",
      "9    78.010610  342.60420  138.163790  385.53473  ...  271.62576   75.721150   \n",
      "10  114.523280  377.00323  166.150310  368.34006  ...  297.33502   90.833810   \n",
      "11  114.559830  374.86080  168.321730  357.64682  ...  299.50497   90.905200   \n",
      "12  112.436090  372.72498  164.055600  366.28156  ...  295.28130   90.855576   \n",
      "13  114.551010  370.58322  176.929730  364.09090  ...  299.51965   92.938890   \n",
      "14  116.696890  327.55896   24.135946  370.62650  ...  301.65857   92.926350   \n",
      "15  110.149890  422.16446  432.936130  392.10242  ...    0.00000    0.000000   \n",
      "16  112.335520  417.84714  435.040950  396.34235  ...    0.00000    0.000000   \n",
      "17  112.395330  409.28366  424.335970  385.60240  ...  321.08386  254.426500   \n",
      "18  112.386635  407.17648  426.474760  385.60406  ...  331.82516  260.780180   \n",
      "19  110.249670  422.16710  422.252530  385.57230  ...  334.02970  230.740740   \n",
      "20   92.987660  437.26224  392.097080  387.73013  ...  312.49722  172.642260   \n",
      "\n",
      "       lEye_x      lEye_y     rEar_x      rEar_y     lEar_x      lEar_y  \\\n",
      "0   344.70816  230.712370  241.46326  230.640230  385.61584  232.972800   \n",
      "1   383.45636  136.069430  245.71416  120.996870  417.90213  153.240480   \n",
      "2   381.28036   47.839420  243.58880   43.442608  420.07450   58.521920   \n",
      "3   357.69750   73.648980  247.98357   58.608585  396.34033   62.905556   \n",
      "4   357.65796   56.397640  250.04843   47.814490  400.66428   47.800820   \n",
      "5   353.39246  125.249390  230.71690   80.074580  387.84326   88.726790   \n",
      "6   370.49792  129.601200  237.19269   80.181260  407.21048   88.667046   \n",
      "7   376.98570  148.986900  250.01865   95.163040  409.29398  114.503220   \n",
      "8   379.18800  146.863900  250.07545   92.929794  417.82860  110.170840   \n",
      "9   349.04437   75.867770  230.78471   47.815617  400.68405   45.751350   \n",
      "10  368.35810   90.847176  265.02930   73.587990  420.07736   60.771297   \n",
      "11  368.50372   92.910460  265.03882   60.763447  422.21902   60.748123   \n",
      "12  368.38540   92.950080  262.92865   69.317200  420.10254   60.706960   \n",
      "13  370.49042   92.954880  262.98530   58.607830  422.17905   60.746990   \n",
      "14  374.90005   95.136030  265.10970   54.296270  430.80862   60.699880   \n",
      "15    0.00000    0.000000  267.27634  211.344090    0.00000    0.000000   \n",
      "16    0.00000    0.000000  271.61768  211.350340    0.00000    0.000000   \n",
      "17  411.46213  284.431920  295.24274  170.466700  473.90765  252.266940   \n",
      "18  420.09192  284.600740  299.52396  172.631520  482.46010  247.930790   \n",
      "19  422.12164  260.811950  299.51703  146.872910  491.02734  226.401570   \n",
      "20  413.56125  183.345550  267.29544  123.121056  476.00380  146.871700   \n",
      "\n",
      "      lHand_x    lHand_y  \n",
      "0     0.00000    0.00000  \n",
      "1     0.00000    0.00000  \n",
      "2     0.00000    0.00000  \n",
      "3   597.64460  461.34560  \n",
      "4   593.51886  451.40604  \n",
      "5   506.38907  437.95990  \n",
      "6   512.67970  433.55554  \n",
      "7   514.21070  436.97128  \n",
      "8   516.40796  431.42728  \n",
      "9   450.18784  373.19458  \n",
      "10  449.34067  355.11887  \n",
      "11  452.02533  357.13602  \n",
      "12  444.90057  354.91367  \n",
      "13  460.99463  358.94410  \n",
      "14  420.59286  429.08220  \n",
      "15    0.00000    0.00000  \n",
      "16  311.14258  491.78052  \n",
      "17  299.14343  502.02994  \n",
      "18  311.59888  502.28815  \n",
      "19  291.43960  502.88050  \n",
      "20    0.00000    0.00000  \n",
      "\n",
      "[21 rows x 26 columns]\n",
      "[[1.00000000e+00 1.19330598e-37 1.94770398e-14]\n",
      " [1.00000000e+00 2.48844532e-17 4.99320372e-08]\n",
      " [9.99999523e-01 1.70818166e-13 4.69413578e-07]\n",
      " [9.99997139e-01 9.90508283e-07 1.92443486e-06]\n",
      " [9.99912500e-01 2.44116535e-07 8.72104138e-05]\n",
      " [9.93875802e-01 6.12420077e-03 1.78842488e-12]\n",
      " [9.68882859e-01 3.11171506e-02 1.02981073e-13]\n",
      " [9.55557704e-01 4.44423445e-02 2.25448011e-11]\n",
      " [9.44491267e-01 5.55086620e-02 2.45398992e-12]\n",
      " [9.89412487e-01 1.05875330e-02 1.26809694e-15]\n",
      " [9.42493021e-01 5.75070567e-02 6.82165999e-12]\n",
      " [9.46049213e-01 5.39508015e-02 1.69229192e-12]\n",
      " [8.97625089e-01 1.02374934e-01 2.64037646e-11]\n",
      " [9.59443688e-01 4.05563377e-02 2.29640178e-12]\n",
      " [5.48067212e-01 4.51932758e-01 2.72887300e-14]\n",
      " [0.00000000e+00 0.00000000e+00 1.00000000e+00]\n",
      " [0.00000000e+00 0.00000000e+00 1.00000000e+00]\n",
      " [1.11436965e-02 9.88619447e-01 2.36855922e-04]\n",
      " [1.25796022e-02 9.87208307e-01 2.12104627e-04]\n",
      " [2.42821919e-03 9.97362196e-01 2.09554782e-04]\n",
      " [3.03780529e-19 2.45154857e-32 1.00000000e+00]]\n"
     ]
    }
   ],
   "source": [
    "sample2=pd.read_csv(\"sample_coords2.csv\")\n",
    "print(sample2.shape)\n",
    "print(sample2)\n",
    "print(ll.predict(sample2))"
   ]
  },
  {
   "cell_type": "code",
   "execution_count": 14,
   "metadata": {},
   "outputs": [
    {
     "data": {
      "text/plain": [
       "pandas.core.frame.DataFrame"
      ]
     },
     "execution_count": 14,
     "metadata": {},
     "output_type": "execute_result"
    }
   ],
   "source": [
    "type(sample2)"
   ]
  },
  {
   "cell_type": "code",
   "execution_count": null,
   "metadata": {},
   "outputs": [],
   "source": []
  },
  {
   "cell_type": "code",
   "execution_count": null,
   "metadata": {},
   "outputs": [],
   "source": []
  },
  {
   "cell_type": "code",
   "execution_count": null,
   "metadata": {},
   "outputs": [],
   "source": []
  }
 ],
 "metadata": {
  "kernelspec": {
   "display_name": "Python 3",
   "language": "python",
   "name": "python3"
  },
  "language_info": {
   "codemirror_mode": {
    "name": "ipython",
    "version": 3
   },
   "file_extension": ".py",
   "mimetype": "text/x-python",
   "name": "python",
   "nbconvert_exporter": "python",
   "pygments_lexer": "ipython3",
   "version": "3.7.9"
  }
 },
 "nbformat": 4,
 "nbformat_minor": 2
}
